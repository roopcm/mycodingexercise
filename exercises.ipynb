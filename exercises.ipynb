{
 "cells": [
  {
   "cell_type": "code",
   "execution_count": 5,
   "id": "bacda165-a702-4a9c-b450-af6faba3a5d1",
   "metadata": {},
   "outputs": [],
   "source": [
    "from typing import List"
   ]
  },
  {
   "cell_type": "code",
   "execution_count": 62,
   "id": "8c28e15b-7701-4779-881a-99fa11883966",
   "metadata": {},
   "outputs": [],
   "source": [
    "class Solution:\n",
    "    ####  Two Sum\n",
    "    def twoSum(self, nums: List[int], target: int) -> List[int]:\n",
    "        n = len(nums)\n",
    "\n",
    "        for i in range(n):\n",
    "            for j in range(i+1, n):\n",
    "              val = nums[i] + nums[j]\n",
    "              if val == target:\n",
    "                  return [i,j]\n",
    "                  break\n",
    "                \n",
    "    def twoSumON(self, nums: List[int], target: int) -> List[int]:\n",
    "        \n",
    "        d = {}\n",
    "        for i, j in enumerate(nums):\n",
    "            r = target - j\n",
    "            if r in d: \n",
    "                return [d[r], i]\n",
    "            d[j] = i \n",
    "            \n",
    "                "
   ]
  },
  {
   "cell_type": "code",
   "execution_count": 63,
   "id": "3b9929a2-5ae9-4740-8357-ff2209ae12d7",
   "metadata": {},
   "outputs": [],
   "source": [
    "Sol = Solution()"
   ]
  },
  {
   "cell_type": "code",
   "execution_count": 64,
   "id": "6ba89a15-324b-4ce9-b345-f6725b708273",
   "metadata": {},
   "outputs": [],
   "source": [
    "####nums = [3,2,4,8,12,81,7]; target = 88\n",
    "nums = [2,7,11,15]; target = 9\n"
   ]
  },
  {
   "cell_type": "code",
   "execution_count": 65,
   "id": "0d4c0c22-155e-4111-9dc6-be9c3b475577",
   "metadata": {},
   "outputs": [
    {
     "data": {
      "text/plain": [
       "[0, 1]"
      ]
     },
     "execution_count": 65,
     "metadata": {},
     "output_type": "execute_result"
    }
   ],
   "source": [
    "Sol.twoSumON(nums, target)"
   ]
  },
  {
   "cell_type": "code",
   "execution_count": null,
   "id": "a6c1708a-4040-4037-b993-e933cc701e8a",
   "metadata": {},
   "outputs": [],
   "source": []
  }
 ],
 "metadata": {
  "kernelspec": {
   "display_name": "Python 3 (ipykernel)",
   "language": "python",
   "name": "python3"
  },
  "language_info": {
   "codemirror_mode": {
    "name": "ipython",
    "version": 3
   },
   "file_extension": ".py",
   "mimetype": "text/x-python",
   "name": "python",
   "nbconvert_exporter": "python",
   "pygments_lexer": "ipython3",
   "version": "3.8.15"
  }
 },
 "nbformat": 4,
 "nbformat_minor": 5
}
